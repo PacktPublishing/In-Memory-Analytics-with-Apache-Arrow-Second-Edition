{
 "cells": [
  {
   "cell_type": "code",
   "execution_count": 1,
   "id": "f2233d8e-6955-42eb-85a0-baa2cfe5d262",
   "metadata": {},
   "outputs": [],
   "source": [
    "import pyspark as pyspark\n",
    "from pyspark import SparkContext\n",
    "conf = pyspark.SparkConf()\n",
    "conf.set('spark.executor.memory', '8g')\n",
    "conf.set('spark.driver.memory', '8g')\n",
    "conf.set('spark.jars.packages', 'org.apache.hadoop:hadoop-aws:3.3.1')\n",
    "sc = SparkContext(conf=conf)\n",
    "sc._jsc.hadoopConfiguration().set('fs.s3a.aws.credentials.provider', 'org.apache.hadoop.fs.s3a.AnonymousAWSCredentialsProvider')\n",
    "sc._jsc.hadoopConfiguration().set('fs.s3a.impl', 'org.apache.hadoop.fs.s3a.S3AFileSystem')\n",
    "\n",
    "from pyspark.sql import SparkSession\n",
    "spark = SparkSession(sc)"
   ]
  },
  {
   "cell_type": "code",
   "execution_count": 3,
   "id": "4565916d-6703-46eb-81f8-7f4b867e7bf1",
   "metadata": {},
   "outputs": [
    {
     "name": "stdout",
     "output_type": "stream",
     "text": [
      "CPU times: user 4.3 s, sys: 1.59 s, total: 5.89 s\n",
      "Wall time: 513 ms\n"
     ]
    }
   ],
   "source": [
    "%%time\n",
    "import pyarrow as pa\n",
    "import pyarrow.csv\n",
    "import pyarrow.parquet as pq\n",
    "\n",
    "pdf = pa.csv.read_csv('sample_data/sliced.csv').to_pandas()"
   ]
  },
  {
   "cell_type": "code",
   "execution_count": 4,
   "id": "ecc30c4a-ca8b-4936-a924-bb669021a298",
   "metadata": {},
   "outputs": [
    {
     "name": "stdout",
     "output_type": "stream",
     "text": [
      "CPU times: user 3.38 ms, sys: 2.46 ms, total: 5.85 ms\n",
      "Wall time: 5.12 s\n"
     ]
    }
   ],
   "source": [
    "%time df = spark.read.format('csv').load('sample_data/sliced.csv', inferSchema='true', header='true')"
   ]
  },
  {
   "cell_type": "code",
   "execution_count": 5,
   "id": "0923c5b5-4b5a-42ea-b559-f7baa24c5855",
   "metadata": {},
   "outputs": [],
   "source": [
    "spark.conf.set('spark.sql.execution.arrow.pyspark.enabled', 'true')"
   ]
  },
  {
   "cell_type": "code",
   "execution_count": 6,
   "id": "cff4a4d4-f889-4bf3-a4da-126f3a5a88c8",
   "metadata": {
    "collapsed": true,
    "jupyter": {
     "outputs_hidden": true
    }
   },
   "outputs": [
    {
     "name": "stdout",
     "output_type": "stream",
     "text": [
      "CPU times: user 5.92 s, sys: 4.72 s, total: 10.6 s\n",
      "Wall time: 3.13 s\n"
     ]
    }
   ],
   "source": [
    "%time df = spark.createDataFrame(pa.csv.read_csv('sample_data/sliced.csv').to_pandas())"
   ]
  },
  {
   "cell_type": "code",
   "execution_count": 9,
   "id": "85eca0d9-f5b1-4230-b172-030f2ada8138",
   "metadata": {},
   "outputs": [
    {
     "name": "stdout",
     "output_type": "stream",
     "text": [
      "root\n",
      " |-- VendorID: long (nullable = true)\n",
      " |-- tpep_pickup_datetime: timestamp (nullable = true)\n",
      " |-- tpep_dropoff_datetime: timestamp (nullable = true)\n",
      " |-- passenger_count: long (nullable = true)\n",
      " |-- trip_distance: double (nullable = true)\n",
      " |-- pickup_longitude: double (nullable = true)\n",
      " |-- pickup_latitude: double (nullable = true)\n",
      " |-- RateCodeID: long (nullable = true)\n",
      " |-- store_and_fwd_flag: string (nullable = true)\n",
      " |-- dropoff_longitude: double (nullable = true)\n",
      " |-- dropoff_latitude: double (nullable = true)\n",
      " |-- payment_type: long (nullable = true)\n",
      " |-- fare_amount: double (nullable = true)\n",
      " |-- extra: double (nullable = true)\n",
      " |-- mta_tax: double (nullable = true)\n",
      " |-- tip_amount: double (nullable = true)\n",
      " |-- tolls_amount: double (nullable = true)\n",
      " |-- improvement_surcharge: double (nullable = true)\n",
      " |-- total_amount: double (nullable = true)\n",
      "\n"
     ]
    }
   ],
   "source": [
    "df.printSchema()"
   ]
  },
  {
   "cell_type": "code",
   "execution_count": 7,
   "id": "2c740c8d-8df4-4c31-80aa-c8771cebddba",
   "metadata": {},
   "outputs": [
    {
     "name": "stdout",
     "output_type": "stream",
     "text": [
      "+-------+-------------------+------------------+-----------------+-------------------+-----------------+------------------+------------------+------------------+------------------+------------------+------------------+------------------+--------------------+------------------+------------------+---------------------+------------------+\n",
      "|summary|           VendorID|   passenger_count|    trip_distance|   pickup_longitude|  pickup_latitude|        RateCodeID|store_and_fwd_flag| dropoff_longitude|  dropoff_latitude|      payment_type|       fare_amount|             extra|             mta_tax|        tip_amount|      tolls_amount|improvement_surcharge|      total_amount|\n",
      "+-------+-------------------+------------------+-----------------+-------------------+-----------------+------------------+------------------+------------------+------------------+------------------+------------------+------------------+--------------------+------------------+------------------+---------------------+------------------+\n",
      "|  count|            3500000|           3500000|          3500000|            3500000|          3500000|           3500000|           3500000|           3500000|           3500000|           3500000|           3500000|           3500000|             3500000|           3500000|           3500000|              3500000|           3500000|\n",
      "|   mean| 1.5217765714285714|1.6799725714285714|9.500517528571242| -72.56244918053324|39.97311099664777|1.0362614285714287|              NULL|-72.61032741189325|40.000350487871735|          1.386906|11.903319425714857| 0.309187542857143|  0.4978167142857143|1.5450083457153747|0.2432987999994847|  0.28357997144523417|14.797866222476372|\n",
      "| stddev|0.49952562720035687|1.3367246050594372|7662.405809109092| 10.123240228129788|5.576616747636894|0.6366374357513295|              NULL| 9.959153534400686| 5.482752767078809|0.4988244363070999|10.357521895780561|0.3663168595959914|0.035232159268484116|2.3929551274396434|1.5534893068411322|   0.0682377649365785|12.550574389061929|\n",
      "|    min|                  1|                 0|              0.0|-121.92581176757812|              0.0|                 1|                 N| -736.183349609375|-9.029156684875488|                 1|            -450.0|              -2.0|                -0.5|             -81.0|            -11.75|                  0.0|            -450.3|\n",
      "|    max|                  2|                 9|     1.18000017E7|  78.66265106201172|  53.152587890625|                99|                 Y|  85.2740249633789|57.470916748046875|                 4|            3005.5|             100.0|                 0.5|             750.0|           1000.66|                  0.3|           3006.35|\n",
      "+-------+-------------------+------------------+-----------------+-------------------+-----------------+------------------+------------------+------------------+------------------+------------------+------------------+------------------+--------------------+------------------+------------------+---------------------+------------------+\n",
      "\n",
      "CPU times: user 4.69 ms, sys: 4.88 ms, total: 9.57 ms\n",
      "Wall time: 20 s\n"
     ]
    }
   ],
   "source": [
    "%%time\n",
    "df = spark.read.format('parquet').load('sample_data/sliced.parquet')\n",
    "df.describe().show()"
   ]
  },
  {
   "cell_type": "code",
   "execution_count": 8,
   "id": "80b3a3f8-de23-46a0-8a17-1a6d427692f0",
   "metadata": {},
   "outputs": [
    {
     "name": "stdout",
     "output_type": "stream",
     "text": [
      "+-------+-------------------+------------------+-----------------+-------------------+-----------------+------------------+------------------+------------------+------------------+-------------------+------------------+-----------------+-------------------+------------------+-------------------+---------------------+------------------+\n",
      "|summary|           VendorID|   passenger_count|    trip_distance|   pickup_longitude|  pickup_latitude|        RateCodeID|store_and_fwd_flag| dropoff_longitude|  dropoff_latitude|       payment_type|       fare_amount|            extra|            mta_tax|        tip_amount|       tolls_amount|improvement_surcharge|      total_amount|\n",
      "+-------+-------------------+------------------+-----------------+-------------------+-----------------+------------------+------------------+------------------+------------------+-------------------+------------------+-----------------+-------------------+------------------+-------------------+---------------------+------------------+\n",
      "|  count|            3500000|           3500000|          3500000|            3500000|          3500000|           3500000|           3500000|           3500000|           3500000|            3500000|           3500000|          3500000|            3500000|           3500000|            3500000|              3500000|           3500000|\n",
      "|   mean| 1.5217765714285714|1.6799725714285714|9.500517528571422| -72.56244918053324|39.97311099664777|1.0362614285714287|              NULL|-72.61032741189325|40.000350487871735|           1.386906|11.903319425714285|0.309187542857143| 0.4978167142857143|1.5450083457142862|0.24329879999999868|   0.2835799714285973|14.797866222857465|\n",
      "| stddev|0.49952562720036386|1.3367246050594312|7662.405809109215|  10.12324022812995|5.576616747636706|0.6366374357513254|              NULL| 9.959153534400484| 5.482752767078763|0.49882443630709533|10.357521895780517|0.366316859595979|0.03523215926848382|2.3929551274397394| 1.5534893068411217|  0.06823776493657976|12.550574389061694|\n",
      "|    min|                  1|                 0|              0.0|-121.92581176757812|              0.0|                 1|                 N| -736.183349609375|-9.029156684875488|                  1|            -450.0|             -2.0|               -0.5|             -81.0|             -11.75|                  0.0|            -450.3|\n",
      "|    max|                  2|                 9|     1.18000017E7|  78.66265106201172|  53.152587890625|                99|                 Y|  85.2740249633789|57.470916748046875|                  4|            3005.5|            100.0|                0.5|             750.0|            1000.66|                  0.3|           3006.35|\n",
      "+-------+-------------------+------------------+-----------------+-------------------+-----------------+------------------+------------------+------------------+------------------+-------------------+------------------+-----------------+-------------------+------------------+-------------------+---------------------+------------------+\n",
      "\n",
      "CPU times: user 1.92 s, sys: 1.51 s, total: 3.43 s\n",
      "Wall time: 7.89 s\n"
     ]
    }
   ],
   "source": [
    "%%time\n",
    "df = spark.createDataFrame(pq.read_table('sample_data/sliced.parquet').to_pandas())\n",
    "df.describe().show()"
   ]
  },
  {
   "cell_type": "code",
   "execution_count": 10,
   "id": "1211b932-3411-4e9e-bdc4-597d61e7d7da",
   "metadata": {},
   "outputs": [
    {
     "name": "stdout",
     "output_type": "stream",
     "text": [
      "1.7 s ± 67.9 ms per loop (mean ± std. dev. of 7 runs, 1 loop each)\n"
     ]
    }
   ],
   "source": [
    "%%timeit\n",
    "df = spark.read.format('csv').load(\n",
    "    'sample_data/sliced.csv',\n",
    "    inferSchema='true',\n",
    "    header='true').select('VendorID',\n",
    "                          'tpep_pickup_datetime',\n",
    "                          'passenger_count',\n",
    "                          'tip_amount',\n",
    "                          'fare_amount',\n",
    "                          'total_amount')"
   ]
  },
  {
   "cell_type": "code",
   "execution_count": 11,
   "id": "49593b48-2bdc-4331-b332-e37eef12ce4d",
   "metadata": {},
   "outputs": [
    {
     "name": "stdout",
     "output_type": "stream",
     "text": [
      "CPU times: user 2.19 s, sys: 3.16 s, total: 5.36 s\n",
      "Wall time: 1.28 s\n"
     ]
    }
   ],
   "source": [
    "%%time\n",
    "df = spark.createDataFrame(pa.csv.read_csv('sample_data/sliced.csv',\n",
    "                                           convert_options=pa.csv.ConvertOptions(\n",
    "                                               include_columns=['VendorID', 'tpep_pickup_datetime',\n",
    "                                                                'passenger_count', 'tip_amount',\n",
    "                                                                'fare_amount', 'total_amount'])\n",
    "                                          ).to_pandas())\n"
   ]
  },
  {
   "cell_type": "code",
   "execution_count": 12,
   "id": "d4ecb6ba-298e-4288-bf96-0dba5ea604d6",
   "metadata": {},
   "outputs": [],
   "source": [
    "import pandas as pd\n",
    "from pyspark.sql.functions import *\n",
    "# import the functions we want to use like 'month', 'to_timestamp', and 'col'. Very useful.\n",
    "\n",
    "df = df.withColumn('tpep_pickup_datetime',\n",
    "                   to_timestamp(col('tpep_pickup_datetime'),\n",
    "                                'yyyy-MM-dd HH:mm:ss')) # the datetime format\n",
    "df = df.withColumn('pickup_month',\n",
    "                   month(col('tpep_pickup_datetime')))\n"
   ]
  },
  {
   "cell_type": "code",
   "execution_count": 15,
   "id": "c715f3ce-883f-430f-9771-078b79a4f986",
   "metadata": {},
   "outputs": [
    {
     "name": "stdout",
     "output_type": "stream",
     "text": [
      "+--------+------------+--------------------+---------------+----------+-----------+------------+--------------------+\n",
      "|VendorID|pickup_month|tpep_pickup_datetime|passenger_count|tip_amount|fare_amount|total_amount|                  v3|\n",
      "+--------+------------+--------------------+---------------+----------+-----------+------------+--------------------+\n",
      "|       1|           1| 2015-01-10 20:33:38|              1|       2.0|       14.5|        17.8| 0.18341020244412276|\n",
      "|       1|           1| 2015-01-10 20:33:38|              1|       0.0|        9.5|        10.8| -0.6349579704224169|\n",
      "|       1|           1| 2015-01-10 20:33:39|              1|       0.0|        3.5|         4.8| -0.6349579704224169|\n",
      "|       1|           1| 2015-01-10 20:33:39|              1|       0.0|       15.0|        16.3| -0.6349579704224169|\n",
      "|       1|           1| 2015-01-10 20:33:39|              1|       6.7|       27.0|       40.33|   2.106575408680491|\n",
      "|       1|           1| 2015-01-10 20:33:39|              1|       0.0|       14.0|        15.3| -0.6349579704224169|\n",
      "|       1|           1| 2015-01-10 20:33:39|              3|      1.66|        7.0|        9.96|   0.044287613056811|\n",
      "|       1|           1| 2015-01-10 20:33:39|              3|       0.0|       52.0|       58.13| -0.6349579704224169|\n",
      "|       1|           1| 2015-01-10 20:33:40|              2|      1.55|        6.5|        9.35|-7.22636450848627...|\n",
      "|       1|           1| 2015-01-10 20:33:40|              1|      1.66|        7.0|        9.96|   0.044287613056811|\n",
      "|       1|           1| 2015-01-10 20:33:41|              1|       1.0|        7.5|         9.8|-0.22577388398914702|\n",
      "|       1|           1| 2015-01-10 20:33:41|              1|       0.0|        3.0|         4.3| -0.6349579704224169|\n",
      "|       1|           1| 2015-01-10 20:33:41|              1|       3.0|       19.0|        23.3|  0.5925942888773925|\n",
      "|       1|           1| 2015-01-10 20:33:41|              1|       0.0|        6.0|         7.3| -0.6349579704224169|\n",
      "|       1|           1| 2015-01-10 19:12:21|              1|       0.0|       13.5|        14.3| -0.6349579704224169|\n",
      "|       1|           1| 2015-01-10 19:12:21|              1|      10.0|       52.0|        62.8|  3.4568828939102816|\n",
      "|       1|           1| 2015-01-04 13:44:52|              1|      2.35|       11.0|       14.15| 0.32662463269576725|\n",
      "|       1|           1| 2015-01-04 13:44:53|              2|       0.0|        5.0|         5.8| -0.6349579704224169|\n",
      "|       1|           1| 2015-01-04 13:44:53|              3|       0.0|        7.5|         8.3| -0.6349579704224169|\n",
      "|       1|           1| 2015-01-04 13:44:54|              1|      1.75|        8.0|       10.55| 0.08111418083580531|\n",
      "+--------+------------+--------------------+---------------+----------+-----------+------------+--------------------+\n",
      "only showing top 20 rows\n",
      "\n",
      "CPU times: user 15.7 ms, sys: 7.8 ms, total: 23.5 ms\n",
      "Wall time: 39 s\n"
     ]
    }
   ],
   "source": [
    "%%time\n",
    "\n",
    "from pyspark.sql.types import *\n",
    "\n",
    "group_columns = ['VendorID', 'pickup_month']\n",
    "non_group_cols = [col for col in df.columns if col not in group_columns]\n",
    "s = StructType([f for f in df.schema.fields if f.name in non_group_cols])\n",
    "cols = list([col(name) for name in non_group_cols])\n",
    "\n",
    "df_norm = df.withColumn('values', struct(*cols))\n",
    "df_norm = (df_norm.groupBy(*group_columns).agg(collect_list(df_norm.values).alias('values')))\n",
    "\n",
    "s2 = StructType(s.fields + [StructField('v3', DoubleType())])\n",
    "\n",
    "@udf(ArrayType(s2))\n",
    "def normalize(values):\n",
    "    v1 = pd.Series([r.tip_amount for r in values])\n",
    "    v1_norm = (v1 - v1.mean())/v1.std()\n",
    "    return [values[i] + (float(v1_norm[i]),) for i in range(0, len(values))]\n",
    "\n",
    "df_norm = (df_norm.withColumn('new_values', normalize(df_norm.values)).drop('values').withColumn('new_values', explode(col('new_values'))))\n",
    "\n",
    "for c in [f.name for f in s2.fields]:\n",
    "    df_norm = df_norm.withColumn(c, col('new_values.{0}'.format(c)))\n",
    "\n",
    "df_norm = df_norm.drop('new_values')\n",
    "df_norm.show()\n"
   ]
  },
  {
   "cell_type": "code",
   "execution_count": 16,
   "id": "46dd9295-27ef-4b4c-ac92-17111ef74582",
   "metadata": {},
   "outputs": [
    {
     "name": "stdout",
     "output_type": "stream",
     "text": [
      "+--------+--------------------+---------------+----------+-----------+------------+------------+--------------------+\n",
      "|VendorID|tpep_pickup_datetime|passenger_count|tip_amount|fare_amount|total_amount|pickup_month|                  v3|\n",
      "+--------+--------------------+---------------+----------+-----------+------------+------------+--------------------+\n",
      "|       1| 2015-01-10 20:33:38|              1|       2.0|       14.5|        17.8|           1| 0.18341020244412276|\n",
      "|       1| 2015-01-10 20:33:38|              1|       0.0|        9.5|        10.8|           1| -0.6349579704224169|\n",
      "|       1| 2015-01-10 20:33:39|              1|       0.0|        3.5|         4.8|           1| -0.6349579704224169|\n",
      "|       1| 2015-01-10 20:33:39|              1|       0.0|       15.0|        16.3|           1| -0.6349579704224169|\n",
      "|       1| 2015-01-10 20:33:39|              1|       6.7|       27.0|       40.33|           1|   2.106575408680491|\n",
      "|       1| 2015-01-10 20:33:39|              1|       0.0|       14.0|        15.3|           1| -0.6349579704224169|\n",
      "|       1| 2015-01-10 20:33:39|              3|      1.66|        7.0|        9.96|           1|   0.044287613056811|\n",
      "|       1| 2015-01-10 20:33:39|              3|       0.0|       52.0|       58.13|           1| -0.6349579704224169|\n",
      "|       1| 2015-01-10 20:33:40|              2|      1.55|        6.5|        9.35|           1|-7.22636450848627...|\n",
      "|       1| 2015-01-10 20:33:40|              1|      1.66|        7.0|        9.96|           1|   0.044287613056811|\n",
      "|       1| 2015-01-10 20:33:41|              1|       1.0|        7.5|         9.8|           1|-0.22577388398914702|\n",
      "|       1| 2015-01-10 20:33:41|              1|       0.0|        3.0|         4.3|           1| -0.6349579704224169|\n",
      "|       1| 2015-01-10 20:33:41|              1|       3.0|       19.0|        23.3|           1|  0.5925942888773925|\n",
      "|       1| 2015-01-10 20:33:41|              1|       0.0|        6.0|         7.3|           1| -0.6349579704224169|\n",
      "|       1| 2015-01-10 19:12:21|              1|       0.0|       13.5|        14.3|           1| -0.6349579704224169|\n",
      "|       1| 2015-01-10 19:12:21|              1|      10.0|       52.0|        62.8|           1|  3.4568828939102816|\n",
      "|       1| 2015-01-04 13:44:52|              1|      2.35|       11.0|       14.15|           1| 0.32662463269576725|\n",
      "|       1| 2015-01-04 13:44:53|              2|       0.0|        5.0|         5.8|           1| -0.6349579704224169|\n",
      "|       1| 2015-01-04 13:44:53|              3|       0.0|        7.5|         8.3|           1| -0.6349579704224169|\n",
      "|       1| 2015-01-04 13:44:54|              1|      1.75|        8.0|       10.55|           1| 0.08111418083580531|\n",
      "+--------+--------------------+---------------+----------+-----------+------------+------------+--------------------+\n",
      "only showing top 20 rows\n",
      "\n",
      "CPU times: user 7.63 ms, sys: 750 µs, total: 8.38 ms\n",
      "Wall time: 3.67 s\n"
     ]
    }
   ],
   "source": [
    "%%time\n",
    "\n",
    "schema = StructType(df.schema.fields + [StructField('v3', DoubleType())])\n",
    "\n",
    "def vector_normalize(values):\n",
    "    v1 = values.tip_amount\n",
    "    values['v3'] = (v1 - v1.mean())/v1.std()\n",
    "    return values\n",
    "\n",
    "group_columns = ['VendorID', 'pickup_month']\n",
    "df_pandas_norm = df.groupby(*group_columns).applyInPandas(vector_normalize, schema=schema)\n",
    "df_pandas_norm.show()\n"
   ]
  },
  {
   "cell_type": "code",
   "execution_count": null,
   "id": "91542def-948f-486a-ae4d-36fbd376aaad",
   "metadata": {},
   "outputs": [],
   "source": []
  }
 ],
 "metadata": {
  "kernelspec": {
   "display_name": "Python 3 (ipykernel)",
   "language": "python",
   "name": "python3"
  },
  "language_info": {
   "codemirror_mode": {
    "name": "ipython",
    "version": 3
   },
   "file_extension": ".py",
   "mimetype": "text/x-python",
   "name": "python",
   "nbconvert_exporter": "python",
   "pygments_lexer": "ipython3",
   "version": "3.11.6"
  }
 },
 "nbformat": 4,
 "nbformat_minor": 5
}
